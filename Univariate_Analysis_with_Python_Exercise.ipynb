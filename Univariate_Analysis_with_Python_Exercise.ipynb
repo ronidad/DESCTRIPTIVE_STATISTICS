{
 "cells": [
  {
   "cell_type": "markdown",
   "metadata": {
    "id": "adeOETQPnPAj"
   },
   "source": [
    "<font color=\"green\">*To start working on this notebook, or any other notebook that we will use in the Moringa Data Science Course, we will need to save our own copy of it. We can do this by clicking File > Save a Copy in Drive. We will then be able to make edits to our own copy of this notebook.*</font>"
   ]
  },
  {
   "cell_type": "markdown",
   "metadata": {
    "id": "FtNfyN9C1FSE"
   },
   "source": [
    "# Univariate Analysis with Python - Exercise"
   ]
  },
  {
   "cell_type": "markdown",
   "metadata": {
    "id": "kLkivweO1Iii"
   },
   "source": [
    "## 1.0 Importing Libraries"
   ]
  },
  {
   "cell_type": "code",
   "execution_count": 2,
   "metadata": {
    "id": "7rB0TURq1Mfo"
   },
   "outputs": [],
   "source": [
    "# Importing Pandas\n",
    "# \n",
    "import pandas as pd"
   ]
  },
  {
   "cell_type": "code",
   "execution_count": 3,
   "metadata": {
    "id": "J7sTS1pS6w17"
   },
   "outputs": [],
   "source": [
    "# Importing Numpy\n",
    "#\n",
    "import numpy as np"
   ]
  },
  {
   "cell_type": "code",
   "execution_count": 4,
   "metadata": {
    "id": "T7fU_A8G3j2c"
   },
   "outputs": [],
   "source": [
    "# Importing Seaborn\n",
    "#\n",
    "import seaborn as sns"
   ]
  },
  {
   "cell_type": "code",
   "execution_count": 5,
   "metadata": {
    "id": "h9m2KAfqKr_R"
   },
   "outputs": [],
   "source": [
    "# Importing Matplotlib\n",
    "#\n",
    "import matplotlib.pyplot as plt"
   ]
  },
  {
   "cell_type": "markdown",
   "metadata": {
    "id": "InrgA2D21MCl"
   },
   "source": [
    "## 1.2 Categorical Variables"
   ]
  },
  {
   "cell_type": "markdown",
   "metadata": {
    "id": "0CRs-dFC1ohx"
   },
   "source": [
    "### 1.21 Frequency Tables"
   ]
  },
  {
   "cell_type": "code",
   "execution_count": 6,
   "metadata": {
    "id": "S1BPZ36A1LiF"
   },
   "outputs": [
    {
     "data": {
      "text/html": [
       "<div>\n",
       "<style scoped>\n",
       "    .dataframe tbody tr th:only-of-type {\n",
       "        vertical-align: middle;\n",
       "    }\n",
       "\n",
       "    .dataframe tbody tr th {\n",
       "        vertical-align: top;\n",
       "    }\n",
       "\n",
       "    .dataframe thead th {\n",
       "        text-align: right;\n",
       "    }\n",
       "</style>\n",
       "<table border=\"1\" class=\"dataframe\">\n",
       "  <thead>\n",
       "    <tr style=\"text-align: right;\">\n",
       "      <th></th>\n",
       "      <th>Name</th>\n",
       "      <th>County</th>\n",
       "    </tr>\n",
       "  </thead>\n",
       "  <tbody>\n",
       "    <tr>\n",
       "      <th>0</th>\n",
       "      <td>John</td>\n",
       "      <td>Nairobi</td>\n",
       "    </tr>\n",
       "    <tr>\n",
       "      <th>1</th>\n",
       "      <td>Paul</td>\n",
       "      <td>Kiambu</td>\n",
       "    </tr>\n",
       "    <tr>\n",
       "      <th>2</th>\n",
       "      <td>Jame</td>\n",
       "      <td>Mombasa</td>\n",
       "    </tr>\n",
       "    <tr>\n",
       "      <th>3</th>\n",
       "      <td>Mark</td>\n",
       "      <td>Kisumu</td>\n",
       "    </tr>\n",
       "    <tr>\n",
       "      <th>4</th>\n",
       "      <td>Susan</td>\n",
       "      <td>Kiambu</td>\n",
       "    </tr>\n",
       "    <tr>\n",
       "      <th>5</th>\n",
       "      <td>Ruth</td>\n",
       "      <td>Mombasa</td>\n",
       "    </tr>\n",
       "    <tr>\n",
       "      <th>6</th>\n",
       "      <td>Ragna</td>\n",
       "      <td>Nairobi</td>\n",
       "    </tr>\n",
       "    <tr>\n",
       "      <th>7</th>\n",
       "      <td>Irene</td>\n",
       "      <td>Mombasa</td>\n",
       "    </tr>\n",
       "    <tr>\n",
       "      <th>8</th>\n",
       "      <td>Gilbert</td>\n",
       "      <td>Kisumu</td>\n",
       "    </tr>\n",
       "    <tr>\n",
       "      <th>9</th>\n",
       "      <td>Esther</td>\n",
       "      <td>Nairobi</td>\n",
       "    </tr>\n",
       "    <tr>\n",
       "      <th>10</th>\n",
       "      <td>Salome</td>\n",
       "      <td>Kiambu</td>\n",
       "    </tr>\n",
       "    <tr>\n",
       "      <th>11</th>\n",
       "      <td>Moses</td>\n",
       "      <td>Mombasa</td>\n",
       "    </tr>\n",
       "  </tbody>\n",
       "</table>\n",
       "</div>"
      ],
      "text/plain": [
       "       Name   County\n",
       "0      John  Nairobi\n",
       "1      Paul   Kiambu\n",
       "2      Jame  Mombasa\n",
       "3      Mark   Kisumu\n",
       "4     Susan   Kiambu\n",
       "5      Ruth  Mombasa\n",
       "6     Ragna  Nairobi\n",
       "7     Irene  Mombasa\n",
       "8   Gilbert   Kisumu\n",
       "9    Esther  Nairobi\n",
       "10   Salome   Kiambu\n",
       "11    Moses  Mombasa"
      ]
     },
     "execution_count": 6,
     "metadata": {},
     "output_type": "execute_result"
    }
   ],
   "source": [
    "# Example 1\n",
    "# ---\n",
    "# Creating Frequency table of column using the value_counts() function\n",
    "# ---\n",
    "# \n",
    "\n",
    "data = {'Name':['John', 'Paul', 'Jame','Mark', 'Susan', 'Ruth', 'Ragna', 'Irene', 'Gilbert', 'Esther', 'Salome', 'Moses'],\n",
    "       'County':['Nairobi', 'Kiambu', 'Mombasa', 'Kisumu', 'Kiambu', 'Mombasa', 'Nairobi', 'Mombasa', 'Kisumu', 'Nairobi', 'Kiambu','Mombasa']}\n",
    " \n",
    "# Creating our dataframe\n",
    "frequency_df = pd.DataFrame(data, columns=['Name', 'County'])\n",
    "frequency_df\n",
    "\n",
    "# Creating our frequency table\n",
    "# ---\n",
    "# frequency_df.County.value_counts()"
   ]
  },
  {
   "cell_type": "code",
   "execution_count": 7,
   "metadata": {},
   "outputs": [
    {
     "data": {
      "text/plain": [
       "Mombasa    4\n",
       "Nairobi    3\n",
       "Kiambu     3\n",
       "Kisumu     2\n",
       "Name: County, dtype: int64"
      ]
     },
     "execution_count": 7,
     "metadata": {},
     "output_type": "execute_result"
    }
   ],
   "source": [
    "frequency_df.County.value_counts()"
   ]
  },
  {
   "cell_type": "markdown",
   "metadata": {
    "id": "ck0zE_a43uV-"
   },
   "source": [
    "#### <font color=\"green\">1.21 Challenges</font>"
   ]
  },
  {
   "cell_type": "code",
   "execution_count": 8,
   "metadata": {
    "id": "UNbhFPzR33L6"
   },
   "outputs": [
    {
     "data": {
      "text/plain": [
       "Iris-setosa        50\n",
       "Iris-versicolor    50\n",
       "Iris-virginica     50\n",
       "Name: species, dtype: int64"
      ]
     },
     "execution_count": 8,
     "metadata": {},
     "output_type": "execute_result"
    }
   ],
   "source": [
    "# Challenge 1\n",
    "# ---\n",
    "# Question: Generate a frequency table from the categorical data in the following dataset\n",
    "# ---\n",
    "# Dataset url = http://bit.ly/IrisDataset\n",
    "# ---\n",
    "# \n",
    "url = 'http://bit.ly/IrisDataset'\n",
    "table = pd.read_csv(url)\n",
    "table.species.value_counts()\n"
   ]
  },
  {
   "cell_type": "markdown",
   "metadata": {
    "id": "NCrhoYJz1dUY"
   },
   "source": [
    "### 1.22 Bar Charts and Histograms"
   ]
  },
  {
   "cell_type": "code",
   "execution_count": 9,
   "metadata": {
    "id": "_3kf4a5q1ylu"
   },
   "outputs": [
    {
     "data": {
      "image/png": "[encoded data removed]",
      "text/plain": [
       "<Figure size 432x288 with 1 Axes>"
      ]
     },
     "metadata": {
      "needs_background": "light"
     },
     "output_type": "display_data"
    }
   ],
   "source": [
    "# Example 1\n",
    "# ---\n",
    "# Bar charts are used to display values associated with categorical data.\n",
    "# ---\n",
    "# \n",
    "\n",
    "# Defining our data\n",
    "x = ['Nuclear', 'Hydro', 'Gas', 'Oil', 'Coal', 'Biofuel']\n",
    "energy = [5, 6, 15, 22, 24, 8]\n",
    " \n",
    "\n",
    "plt.bar(x, energy, color='green')\n",
    "\n",
    "# Labelling our x axis\n",
    "plt.xlabel(\"Energy Source\")\n",
    "\n",
    "# Labelling our y axis\n",
    "plt.ylabel(\"Energy Output (GJ)\")\n",
    "\n",
    "# Giving a title to our Bar chart\n",
    "plt.title(\"Energy output from various fuel sources\")\n",
    "\n",
    "# Displaying our chart\n",
    "plt.show()"
   ]
  },
  {
   "cell_type": "code",
   "execution_count": null,
   "metadata": {},
   "outputs": [],
   "source": []
  },
  {
   "cell_type": "code",
   "execution_count": 10,
   "metadata": {},
   "outputs": [
    {
     "data": {
      "text/plain": [
       "[5, 6, 15, 22, 24, 8]"
      ]
     },
     "execution_count": 10,
     "metadata": {},
     "output_type": "execute_result"
    }
   ],
   "source": [
    "x = ['Nuclear', 'Hydro', 'Gas', 'Oil', 'Coal', 'Biofuel']\n",
    "energy = [5, 6, 15, 22, 24, 8]\n",
    "energy"
   ]
  },
  {
   "cell_type": "code",
   "execution_count": 24,
   "metadata": {},
   "outputs": [
    {
     "data": {
      "image/png": "[encoded data removed]",
      "text/plain": [
       "<Figure size 432x288 with 1 Axes>"
      ]
     },
     "metadata": {
      "needs_background": "light"
     },
     "output_type": "display_data"
    }
   ],
   "source": [
    "\n",
    "plt.bar(x, energy, color='blue')\n",
    "plt.xlabel(\"Energy Source\")\n",
    "plt.ylabel(\"Energy Output (GJ)\")\n",
    "plt.title(\"Energy output from various fuel sources\")\n",
    "# Displaying our chart\n",
    "plt.show()"
   ]
  },
  {
   "cell_type": "code",
   "execution_count": 27,
   "metadata": {
    "id": "RWgB6pZg3-o6"
   },
   "outputs": [
    {
     "data": {
      "image/png": "[encoded data removed]",
      "text/plain": [
       "<Figure size 432x288 with 1 Axes>"
      ]
     },
     "metadata": {
      "needs_background": "light"
     },
     "output_type": "display_data"
    }
   ],
   "source": [
    "# Example 2\n",
    "# ---\n",
    "# We can also create the exact same chart horizontally as shown \n",
    "# ---\n",
    "# \n",
    "\n",
    "x = ['Nuclear', 'Hydro', 'Gas', 'Oil', 'Coal', 'Biofuel']\n",
    "energy = [15, 16, 25, 32, 34, 18]  \n",
    "\n",
    "plt.barh(x, energy)\n",
    "plt.ylabel(\"Energy Source\")\n",
    "plt.xlabel(\"Energy Output (GJ)\")\n",
    "plt.title(\"Energy output from various fuel sources\")\n",
    "plt.show()"
   ]
  },
  {
   "cell_type": "code",
   "execution_count": 11,
   "metadata": {
    "id": "n21agJh93_w0"
   },
   "outputs": [
    {
     "data": {
      "image/png": "[encoded data removed]",
      "text/plain": [
       "<Figure size 432x288 with 1 Axes>"
      ]
     },
     "metadata": {
      "needs_background": "light"
     },
     "output_type": "display_data"
    }
   ],
   "source": [
    "# Example 3\n",
    "# ---\n",
    "# Very much like a bar chart, histograms tend to show distribution by grouping segments together. \n",
    "# Examples of this might be age groups, or scores on a test. \n",
    "# Rather than showing every single age a group might be, maybe you just show people from 20-25, 25-30... and so on.\n",
    "# ---\n",
    "#\n",
    "\n",
    "population_ages = [22, 55, 62, 45, 21, 22, 34, 42, 42, 4, 99, 102, 110, 120, 121, 122, 130, 111, 115, 112, 80, 75, 65, 54, 44, 43, 42, 48]\n",
    "bins            = [0, 10, 20, 30, 40, 50, 60, 70, 80, 90, 100, 110, 120, 130]\n",
    "\n",
    "plt.hist(population_ages, bins=10, histtype='bar', rwidth=0.9)\n",
    "\n",
    "plt.xlabel('x')\n",
    "plt.ylabel('y')\n",
    "plt.title('Histogram of Population') \n",
    "plt.show()"
   ]
  },
  {
   "cell_type": "code",
   "execution_count": null,
   "metadata": {
    "id": "eGXHLiBY8jbI"
   },
   "outputs": [],
   "source": [
    "# Example 4\n",
    "# ---\n",
    "# Creating a histogram from a given dataset using values from the points column\n",
    "# ---\n",
    "# Dataset url = http://bit.ly/WineDataset\n",
    "# ---\n",
    "#\n",
    "\n",
    "# Loading out dataset\n",
    "wine_df = pd.read_csv(\"http://bit.ly/WineDataset\")\n",
    "\n",
    "wine_points = wine_df['points']\n",
    "\n",
    "plt.hist(wine_points, bins=10, histtype='bar', rwidth=0.9)\n",
    "plt.xlabel('No. of Wines')\n",
    "plt.ylabel('Quantity')\n",
    "plt.title('Histogram of Points of Wine vs No. of Wines')\n",
    "plt.show()"
   ]
  },
  {
   "cell_type": "code",
   "execution_count": 19,
   "metadata": {},
   "outputs": [
    {
     "data": {
      "text/html": [
       "<div>\n",
       "<style scoped>\n",
       "    .dataframe tbody tr th:only-of-type {\n",
       "        vertical-align: middle;\n",
       "    }\n",
       "\n",
       "    .dataframe tbody tr th {\n",
       "        vertical-align: top;\n",
       "    }\n",
       "\n",
       "    .dataframe thead th {\n",
       "        text-align: right;\n",
       "    }\n",
       "</style>\n",
       "<table border=\"1\" class=\"dataframe\">\n",
       "  <thead>\n",
       "    <tr style=\"text-align: right;\">\n",
       "      <th></th>\n",
       "      <th>Unnamed: 0</th>\n",
       "      <th>country</th>\n",
       "      <th>description</th>\n",
       "      <th>designation</th>\n",
       "      <th>points</th>\n",
       "      <th>price</th>\n",
       "      <th>province</th>\n",
       "      <th>region_1</th>\n",
       "      <th>region_2</th>\n",
       "      <th>variety</th>\n",
       "      <th>winery</th>\n",
       "    </tr>\n",
       "  </thead>\n",
       "  <tbody>\n",
       "    <tr>\n",
       "      <th>0</th>\n",
       "      <td>0</td>\n",
       "      <td>US</td>\n",
       "      <td>This tremendous 100% varietal wine hails from ...</td>\n",
       "      <td>Martha's Vineyard</td>\n",
       "      <td>96</td>\n",
       "      <td>235.0</td>\n",
       "      <td>California</td>\n",
       "      <td>Napa Valley</td>\n",
       "      <td>Napa</td>\n",
       "      <td>Cabernet Sauvignon</td>\n",
       "      <td>Heitz</td>\n",
       "    </tr>\n",
       "    <tr>\n",
       "      <th>1</th>\n",
       "      <td>1</td>\n",
       "      <td>Spain</td>\n",
       "      <td>Ripe aromas of fig, blackberry and cassis are ...</td>\n",
       "      <td>Carodorum Selección Especial Reserva</td>\n",
       "      <td>96</td>\n",
       "      <td>110.0</td>\n",
       "      <td>Northern Spain</td>\n",
       "      <td>Toro</td>\n",
       "      <td>NaN</td>\n",
       "      <td>Tinta de Toro</td>\n",
       "      <td>Bodega Carmen Rodríguez</td>\n",
       "    </tr>\n",
       "    <tr>\n",
       "      <th>2</th>\n",
       "      <td>2</td>\n",
       "      <td>US</td>\n",
       "      <td>Mac Watson honors the memory of a wine once ma...</td>\n",
       "      <td>Special Selected Late Harvest</td>\n",
       "      <td>96</td>\n",
       "      <td>90.0</td>\n",
       "      <td>California</td>\n",
       "      <td>Knights Valley</td>\n",
       "      <td>Sonoma</td>\n",
       "      <td>Sauvignon Blanc</td>\n",
       "      <td>Macauley</td>\n",
       "    </tr>\n",
       "    <tr>\n",
       "      <th>3</th>\n",
       "      <td>3</td>\n",
       "      <td>US</td>\n",
       "      <td>This spent 20 months in 30% new French oak, an...</td>\n",
       "      <td>Reserve</td>\n",
       "      <td>96</td>\n",
       "      <td>65.0</td>\n",
       "      <td>Oregon</td>\n",
       "      <td>Willamette Valley</td>\n",
       "      <td>Willamette Valley</td>\n",
       "      <td>Pinot Noir</td>\n",
       "      <td>Ponzi</td>\n",
       "    </tr>\n",
       "    <tr>\n",
       "      <th>4</th>\n",
       "      <td>4</td>\n",
       "      <td>France</td>\n",
       "      <td>This is the top wine from La Bégude, named aft...</td>\n",
       "      <td>La Brûlade</td>\n",
       "      <td>95</td>\n",
       "      <td>66.0</td>\n",
       "      <td>Provence</td>\n",
       "      <td>Bandol</td>\n",
       "      <td>NaN</td>\n",
       "      <td>Provence red blend</td>\n",
       "      <td>Domaine de la Bégude</td>\n",
       "    </tr>\n",
       "  </tbody>\n",
       "</table>\n",
       "</div>"
      ],
      "text/plain": [
       "   Unnamed: 0 country                                        description  \\\n",
       "0           0      US  This tremendous 100% varietal wine hails from ...   \n",
       "1           1   Spain  Ripe aromas of fig, blackberry and cassis are ...   \n",
       "2           2      US  Mac Watson honors the memory of a wine once ma...   \n",
       "3           3      US  This spent 20 months in 30% new French oak, an...   \n",
       "4           4  France  This is the top wine from La Bégude, named aft...   \n",
       "\n",
       "                            designation  points  price        province  \\\n",
       "0                     Martha's Vineyard      96  235.0      California   \n",
       "1  Carodorum Selección Especial Reserva      96  110.0  Northern Spain   \n",
       "2         Special Selected Late Harvest      96   90.0      California   \n",
       "3                               Reserve      96   65.0          Oregon   \n",
       "4                            La Brûlade      95   66.0        Provence   \n",
       "\n",
       "            region_1           region_2             variety  \\\n",
       "0        Napa Valley               Napa  Cabernet Sauvignon   \n",
       "1               Toro                NaN       Tinta de Toro   \n",
       "2     Knights Valley             Sonoma     Sauvignon Blanc   \n",
       "3  Willamette Valley  Willamette Valley          Pinot Noir   \n",
       "4             Bandol                NaN  Provence red blend   \n",
       "\n",
       "                    winery  \n",
       "0                    Heitz  \n",
       "1  Bodega Carmen Rodríguez  \n",
       "2                 Macauley  \n",
       "3                    Ponzi  \n",
       "4     Domaine de la Bégude  "
      ]
     },
     "execution_count": 19,
     "metadata": {},
     "output_type": "execute_result"
    }
   ],
   "source": [
    "wine_df = pd.read_csv('wines.csv')\n",
    "wine_df.head()\n"
   ]
  },
  {
   "cell_type": "code",
   "execution_count": 23,
   "metadata": {},
   "outputs": [
    {
     "data": {
      "image/png": "[encoded data removed]",
      "text/plain": [
       "<Figure size 432x288 with 1 Axes>"
      ]
     },
     "metadata": {
      "needs_background": "light"
     },
     "output_type": "display_data"
    }
   ],
   "source": [
    "wine_points = wine_df['points']\n",
    "plt.hist(wine_points, bins=10, histtype='bar', rwidth=0.9)\n",
    "plt.xlabel('No. of Wines')\n",
    "plt.ylabel('Quantity')\n",
    "plt.title('Histogram of Points of Wine vs No. of Wines')\n",
    "plt.show()"
   ]
  },
  {
   "cell_type": "code",
   "execution_count": null,
   "metadata": {},
   "outputs": [],
   "source": []
  },
  {
   "cell_type": "code",
   "execution_count": null,
   "metadata": {},
   "outputs": [],
   "source": []
  },
  {
   "cell_type": "markdown",
   "metadata": {
    "id": "jRKV0pa04BQH"
   },
   "source": [
    "#### <font color=\"green\">1.22 Challenges</font>"
   ]
  },
  {
   "cell_type": "code",
   "execution_count": 29,
   "metadata": {
    "id": "VWgtpnM54Mf7"
   },
   "outputs": [
    {
     "data": {
      "text/plain": [
       "Text(0.5, 1.0, 'Programming language analysis')"
      ]
     },
     "execution_count": 29,
     "metadata": {},
     "output_type": "execute_result"
    },
    {
     "data": {
      "image/png": "[encoded data removed]",
      "text/plain": [
       "<Figure size 432x288 with 1 Axes>"
      ]
     },
     "metadata": {
      "needs_background": "light"
     },
     "output_type": "display_data"
    }
   ],
   "source": [
    "# Challenge 1\n",
    "# ---\n",
    "# Question: Create a bar chart given the following dataset\n",
    "# ---\n",
    "# \n",
    "languages = ('Python', 'C++', 'Java', 'Perl', 'Scala', 'Lisp') \n",
    "performance = [20, 18, 66, 14, 12, 11]\n",
    "\n",
    "plt.bar(languages, performance)\n",
    "plt.xlabel('Programming language')\n",
    "plt.ylabel('Perfomance')\n",
    "plt.title('Programming language analysis')"
   ]
  },
  {
   "cell_type": "code",
   "execution_count": 36,
   "metadata": {
    "id": "FUy2tpOl4Nax"
   },
   "outputs": [
    {
     "data": {
      "text/plain": [
       "(array([10.,  7.,  2.,  1.,  1.]),\n",
       " array([  4. ,  23.2,  42.4,  61.6,  80.8, 100. ]),\n",
       " <BarContainer object of 5 artists>)"
      ]
     },
     "execution_count": 36,
     "metadata": {},
     "output_type": "execute_result"
    },
    {
     "data": {
      "image/png": "[encoded data removed]",
      "text/plain": [
       "<Figure size 432x288 with 1 Axes>"
      ]
     },
     "metadata": {
      "needs_background": "light"
     },
     "output_type": "display_data"
    }
   ],
   "source": [
    "# Challenge 2\n",
    "# ---\n",
    "# Question: Create a histogram from the following data\n",
    "# ---\n",
    "# \n",
    "x = [21, 22, 23, 4, 5, 6, 77, 8, 9, 10, 31, 32, 33, 34, 35, 36, 37, 18, 49, 50, 100]\n",
    "num_bins = 5\n",
    "\n",
    "plt.hist(x, bins = num_bins,histtype='bar', rwidth=0.9 )"
   ]
  },
  {
   "cell_type": "code",
   "execution_count": 48,
   "metadata": {
    "id": "eQV9iT2u4Po_"
   },
   "outputs": [
    {
     "data": {
      "text/plain": [
       "(array([ 9., 23., 14., 27., 16., 26., 18.,  6.,  5.,  6.]),\n",
       " array([4.3 , 4.66, 5.02, 5.38, 5.74, 6.1 , 6.46, 6.82, 7.18, 7.54, 7.9 ]),\n",
       " <BarContainer object of 10 artists>)"
      ]
     },
     "execution_count": 48,
     "metadata": {},
     "output_type": "execute_result"
    },
    {
     "data": {
      "image/png": "[encoded data removed]",
      "text/plain": [
       "<Figure size 432x288 with 1 Axes>"
      ]
     },
     "metadata": {
      "needs_background": "light"
     },
     "output_type": "display_data"
    }
   ],
   "source": [
    "# Challenge 3\n",
    "# ---\n",
    "# Question: Create a histogram from a given dataset using values from the sepal length column\n",
    "# ---\n",
    "# Dataset url = http://bit.ly/IrisDataset\n",
    "# ---\n",
    "# \n",
    "url = 'http://bit.ly/IrisDataset'\n",
    "df_s = pd.read_csv(url)\n",
    "sl = df_s['sepal_length']\n",
    "plt.hist(sl,  histtype='bar', rwidth=0.9)\n"
   ]
  },
  {
   "cell_type": "markdown",
   "metadata": {
    "id": "yXH8QAl71vLq"
   },
   "source": [
    "### 1.23 Pie Charts"
   ]
  },
  {
   "cell_type": "code",
   "execution_count": 56,
   "metadata": {
    "id": "UXYA0eoB09kd"
   },
   "outputs": [
    {
     "data": {
      "image/png": "[encoded data removed]",
      "text/plain": [
       "<Figure size 432x288 with 1 Axes>"
      ]
     },
     "metadata": {},
     "output_type": "display_data"
    }
   ],
   "source": [
    "# Example 1\n",
    "# ---\n",
    "# Question: Create a pie chart usig the sizes list given below\n",
    "# ---\n",
    "#\n",
    "\n",
    "# Defining our labels, sizes, colors and explode (this will explode the 1st slice)\n",
    "labels = 'Python', 'C++', 'Ruby', 'Java'\n",
    "sizes  = [215, 130, 245, 210]\n",
    "colors = ['gold', 'yellowgreen', 'lightcoral', 'lightskyblue']\n",
    "\n",
    "# Highlights a particular Value in plot\n",
    "explode = (0.1, 0, 0, 0)  \n",
    "\n",
    "# Plotting our pie chart\n",
    "plt.pie(sizes, explode=explode, labels=labels, colors=colors,\n",
    "autopct='%1.1f%%', shadow=True, startangle=140)\n",
    "\n",
    "plt.axis('equal')\n",
    "plt.title('Pie Chart of Programming Languages')\n",
    "plt.show()"
   ]
  },
  {
   "cell_type": "code",
   "execution_count": 62,
   "metadata": {
    "id": "4IIwpXsF4To9"
   },
   "outputs": [
    {
     "data": {
      "image/png": "[encoded data removed]",
      "text/plain": [
       "<Figure size 432x288 with 1 Axes>"
      ]
     },
     "metadata": {},
     "output_type": "display_data"
    }
   ],
   "source": [
    "# Example 2\n",
    "# ---\n",
    "# Question: Create a pie chart to show the distribution of age and population\n",
    "# ---\n",
    "# \n",
    "\n",
    "# Loading out dataset\n",
    "df = pd.read_csv(\"http://bit.ly/AgePopulationDataset\")\n",
    "\n",
    "# Previewing the dataset \n",
    "df.head()\n",
    "\n",
    "# Assigning our columns to population and age variables\n",
    "population = df['population']\n",
    "age        = df['age']\n",
    "\n",
    "# Plotting our pie chart\n",
    "# -------\n",
    "plt.pie(population, labels = age, autopct = '%1.1f%%', shadow = True, startangle = 140)\n",
    "plt.axis('equal')\n",
    "plt.title('Pie Chart of Age population')\n",
    "plt.show()"
   ]
  },
  {
   "cell_type": "markdown",
   "metadata": {
    "id": "6lNbN0xS4XAY"
   },
   "source": [
    "#### <font color=\"green\">1.23 Challenges</font>"
   ]
  },
  {
   "cell_type": "code",
   "execution_count": 64,
   "metadata": {
    "id": "SDYT8o0U4WE9"
   },
   "outputs": [
    {
     "data": {
      "image/png": "[encoded data removed]",
      "text/plain": [
       "<Figure size 432x288 with 1 Axes>"
      ]
     },
     "metadata": {},
     "output_type": "display_data"
    }
   ],
   "source": [
    "# Challenge 1\n",
    "# ---\n",
    "# Question: Create a pie chart of county population given the following\n",
    "# ---\n",
    "# \n",
    "\n",
    "county_population = [12344408, 2441523, 30523371, 110012442, 47886051]\n",
    "counties = ['Thika', 'Mombasa', 'Kisumu', 'Nairobi', 'Nakuru']\n",
    "plt.pie(county_population, labels = counties, autopct = '%1.1f%%', shadow = True, startangle = 140)\n",
    "plt.axis('equal')\n",
    "plt.title('Pie Chart of County population')\n",
    "plt.show()\n"
   ]
  },
  {
   "cell_type": "code",
   "execution_count": 85,
   "metadata": {
    "id": "xRcsBrgL4jDB"
   },
   "outputs": [
    {
     "data": {
      "text/html": [
       "<div>\n",
       "<style scoped>\n",
       "    .dataframe tbody tr th:only-of-type {\n",
       "        vertical-align: middle;\n",
       "    }\n",
       "\n",
       "    .dataframe tbody tr th {\n",
       "        vertical-align: top;\n",
       "    }\n",
       "\n",
       "    .dataframe thead th {\n",
       "        text-align: right;\n",
       "    }\n",
       "</style>\n",
       "<table border=\"1\" class=\"dataframe\">\n",
       "  <thead>\n",
       "    <tr style=\"text-align: right;\">\n",
       "      <th></th>\n",
       "      <th>city</th>\n",
       "      <th>date</th>\n",
       "      <th>fare</th>\n",
       "      <th>ride_id</th>\n",
       "    </tr>\n",
       "  </thead>\n",
       "  <tbody>\n",
       "    <tr>\n",
       "      <th>0</th>\n",
       "      <td>Lake Jonathanshire</td>\n",
       "      <td>2018-01-14 10:14:22</td>\n",
       "      <td>13.83</td>\n",
       "      <td>5739410935873</td>\n",
       "    </tr>\n",
       "    <tr>\n",
       "      <th>1</th>\n",
       "      <td>South Michelleport</td>\n",
       "      <td>2018-03-04 18:24:09</td>\n",
       "      <td>30.24</td>\n",
       "      <td>2343912425577</td>\n",
       "    </tr>\n",
       "    <tr>\n",
       "      <th>2</th>\n",
       "      <td>Port Samanthamouth</td>\n",
       "      <td>2018-02-24 04:29:00</td>\n",
       "      <td>33.44</td>\n",
       "      <td>2005065760003</td>\n",
       "    </tr>\n",
       "    <tr>\n",
       "      <th>3</th>\n",
       "      <td>Rodneyfort</td>\n",
       "      <td>2018-02-10 23:22:03</td>\n",
       "      <td>23.44</td>\n",
       "      <td>5149245426178</td>\n",
       "    </tr>\n",
       "    <tr>\n",
       "      <th>4</th>\n",
       "      <td>South Jack</td>\n",
       "      <td>2018-03-06 04:28:35</td>\n",
       "      <td>34.58</td>\n",
       "      <td>3908451377344</td>\n",
       "    </tr>\n",
       "    <tr>\n",
       "      <th>...</th>\n",
       "      <td>...</td>\n",
       "      <td>...</td>\n",
       "      <td>...</td>\n",
       "      <td>...</td>\n",
       "    </tr>\n",
       "    <tr>\n",
       "      <th>2370</th>\n",
       "      <td>Michaelberg</td>\n",
       "      <td>2018-04-29 17:04:39</td>\n",
       "      <td>13.38</td>\n",
       "      <td>8550365057598</td>\n",
       "    </tr>\n",
       "    <tr>\n",
       "      <th>2371</th>\n",
       "      <td>Lake Latoyabury</td>\n",
       "      <td>2018-01-30 00:05:47</td>\n",
       "      <td>20.76</td>\n",
       "      <td>9018727594352</td>\n",
       "    </tr>\n",
       "    <tr>\n",
       "      <th>2372</th>\n",
       "      <td>North Jaime</td>\n",
       "      <td>2018-02-10 21:03:50</td>\n",
       "      <td>11.11</td>\n",
       "      <td>2781339863778</td>\n",
       "    </tr>\n",
       "    <tr>\n",
       "      <th>2373</th>\n",
       "      <td>West Heather</td>\n",
       "      <td>2018-05-07 19:22:15</td>\n",
       "      <td>44.94</td>\n",
       "      <td>4256853490277</td>\n",
       "    </tr>\n",
       "    <tr>\n",
       "      <th>2374</th>\n",
       "      <td>Newtonview</td>\n",
       "      <td>2018-04-25 10:20:13</td>\n",
       "      <td>55.84</td>\n",
       "      <td>9990581345298</td>\n",
       "    </tr>\n",
       "  </tbody>\n",
       "</table>\n",
       "<p>2375 rows × 4 columns</p>\n",
       "</div>"
      ],
      "text/plain": [
       "                    city                 date   fare        ride_id\n",
       "0     Lake Jonathanshire  2018-01-14 10:14:22  13.83  5739410935873\n",
       "1     South Michelleport  2018-03-04 18:24:09  30.24  2343912425577\n",
       "2     Port Samanthamouth  2018-02-24 04:29:00  33.44  2005065760003\n",
       "3             Rodneyfort  2018-02-10 23:22:03  23.44  5149245426178\n",
       "4             South Jack  2018-03-06 04:28:35  34.58  3908451377344\n",
       "...                  ...                  ...    ...            ...\n",
       "2370         Michaelberg  2018-04-29 17:04:39  13.38  8550365057598\n",
       "2371     Lake Latoyabury  2018-01-30 00:05:47  20.76  9018727594352\n",
       "2372         North Jaime  2018-02-10 21:03:50  11.11  2781339863778\n",
       "2373        West Heather  2018-05-07 19:22:15  44.94  4256853490277\n",
       "2374          Newtonview  2018-04-25 10:20:13  55.84  9990581345298\n",
       "\n",
       "[2375 rows x 4 columns]"
      ]
     },
     "execution_count": 85,
     "metadata": {},
     "output_type": "execute_result"
    }
   ],
   "source": [
    "# Challenge 2\n",
    "# ---\n",
    "# Question: Acting as Chief Data Strategist for a ride sharing company, \n",
    "# you are expected to offer data-backed guidance on new opportunities for market differentiation.\n",
    "# Merge the two datasets into a single dataset based on the cities they share then \n",
    "# produce the following pie chart: Pie Chart of % of Total Fares by City Type.\n",
    "# Hint: When making the pie Chart, experiment with effects like shadow, startangle, and explosion\n",
    "# ---\n",
    "url1 = 'http://bit.ly/City-RideDataset'\n",
    "url2 = 'http://bit.ly/RideDataset'\n",
    "# ---\n",
    "#\n",
    "d1= pd.read_csv(url1)\n",
    "d2 = pd.read_csv(url2)\n",
    "d2"
   ]
  },
  {
   "cell_type": "code",
   "execution_count": 86,
   "metadata": {},
   "outputs": [
    {
     "data": {
      "text/html": [
       "<div>\n",
       "<style scoped>\n",
       "    .dataframe tbody tr th:only-of-type {\n",
       "        vertical-align: middle;\n",
       "    }\n",
       "\n",
       "    .dataframe tbody tr th {\n",
       "        vertical-align: top;\n",
       "    }\n",
       "\n",
       "    .dataframe thead th {\n",
       "        text-align: right;\n",
       "    }\n",
       "</style>\n",
       "<table border=\"1\" class=\"dataframe\">\n",
       "  <thead>\n",
       "    <tr style=\"text-align: right;\">\n",
       "      <th></th>\n",
       "      <th>city</th>\n",
       "      <th>driver_count</th>\n",
       "      <th>type</th>\n",
       "      <th>date</th>\n",
       "      <th>fare</th>\n",
       "      <th>ride_id</th>\n",
       "    </tr>\n",
       "  </thead>\n",
       "  <tbody>\n",
       "    <tr>\n",
       "      <th>0</th>\n",
       "      <td>Richardfort</td>\n",
       "      <td>38</td>\n",
       "      <td>Urban</td>\n",
       "      <td>2018-02-24 08:40:38</td>\n",
       "      <td>13.93</td>\n",
       "      <td>5628545007794</td>\n",
       "    </tr>\n",
       "    <tr>\n",
       "      <th>1</th>\n",
       "      <td>Richardfort</td>\n",
       "      <td>38</td>\n",
       "      <td>Urban</td>\n",
       "      <td>2018-02-13 12:46:07</td>\n",
       "      <td>14.00</td>\n",
       "      <td>910050116494</td>\n",
       "    </tr>\n",
       "    <tr>\n",
       "      <th>2</th>\n",
       "      <td>Richardfort</td>\n",
       "      <td>38</td>\n",
       "      <td>Urban</td>\n",
       "      <td>2018-02-16 13:52:19</td>\n",
       "      <td>17.92</td>\n",
       "      <td>820639054416</td>\n",
       "    </tr>\n",
       "    <tr>\n",
       "      <th>3</th>\n",
       "      <td>Richardfort</td>\n",
       "      <td>38</td>\n",
       "      <td>Urban</td>\n",
       "      <td>2018-02-01 20:18:28</td>\n",
       "      <td>10.26</td>\n",
       "      <td>9554935945413</td>\n",
       "    </tr>\n",
       "    <tr>\n",
       "      <th>4</th>\n",
       "      <td>Richardfort</td>\n",
       "      <td>38</td>\n",
       "      <td>Urban</td>\n",
       "      <td>2018-04-17 02:26:37</td>\n",
       "      <td>23.00</td>\n",
       "      <td>720020655850</td>\n",
       "    </tr>\n",
       "    <tr>\n",
       "      <th>...</th>\n",
       "      <td>...</td>\n",
       "      <td>...</td>\n",
       "      <td>...</td>\n",
       "      <td>...</td>\n",
       "      <td>...</td>\n",
       "      <td>...</td>\n",
       "    </tr>\n",
       "    <tr>\n",
       "      <th>2370</th>\n",
       "      <td>Jessicaport</td>\n",
       "      <td>1</td>\n",
       "      <td>Rural</td>\n",
       "      <td>2018-01-31 17:57:25</td>\n",
       "      <td>58.29</td>\n",
       "      <td>623154556195</td>\n",
       "    </tr>\n",
       "    <tr>\n",
       "      <th>2371</th>\n",
       "      <td>South Saramouth</td>\n",
       "      <td>7</td>\n",
       "      <td>Rural</td>\n",
       "      <td>2018-02-20 16:32:36</td>\n",
       "      <td>44.29</td>\n",
       "      <td>3622365199969</td>\n",
       "    </tr>\n",
       "    <tr>\n",
       "      <th>2372</th>\n",
       "      <td>South Saramouth</td>\n",
       "      <td>7</td>\n",
       "      <td>Rural</td>\n",
       "      <td>2018-01-28 15:55:33</td>\n",
       "      <td>31.25</td>\n",
       "      <td>7118046558393</td>\n",
       "    </tr>\n",
       "    <tr>\n",
       "      <th>2373</th>\n",
       "      <td>South Saramouth</td>\n",
       "      <td>7</td>\n",
       "      <td>Rural</td>\n",
       "      <td>2018-03-27 21:07:16</td>\n",
       "      <td>11.87</td>\n",
       "      <td>170351888128</td>\n",
       "    </tr>\n",
       "    <tr>\n",
       "      <th>2374</th>\n",
       "      <td>South Saramouth</td>\n",
       "      <td>7</td>\n",
       "      <td>Rural</td>\n",
       "      <td>2018-04-12 18:11:50</td>\n",
       "      <td>57.23</td>\n",
       "      <td>5081198789583</td>\n",
       "    </tr>\n",
       "  </tbody>\n",
       "</table>\n",
       "<p>2375 rows × 6 columns</p>\n",
       "</div>"
      ],
      "text/plain": [
       "                 city  driver_count   type                 date   fare  \\\n",
       "0         Richardfort            38  Urban  2018-02-24 08:40:38  13.93   \n",
       "1         Richardfort            38  Urban  2018-02-13 12:46:07  14.00   \n",
       "2         Richardfort            38  Urban  2018-02-16 13:52:19  17.92   \n",
       "3         Richardfort            38  Urban  2018-02-01 20:18:28  10.26   \n",
       "4         Richardfort            38  Urban  2018-04-17 02:26:37  23.00   \n",
       "...               ...           ...    ...                  ...    ...   \n",
       "2370      Jessicaport             1  Rural  2018-01-31 17:57:25  58.29   \n",
       "2371  South Saramouth             7  Rural  2018-02-20 16:32:36  44.29   \n",
       "2372  South Saramouth             7  Rural  2018-01-28 15:55:33  31.25   \n",
       "2373  South Saramouth             7  Rural  2018-03-27 21:07:16  11.87   \n",
       "2374  South Saramouth             7  Rural  2018-04-12 18:11:50  57.23   \n",
       "\n",
       "            ride_id  \n",
       "0     5628545007794  \n",
       "1      910050116494  \n",
       "2      820639054416  \n",
       "3     9554935945413  \n",
       "4      720020655850  \n",
       "...             ...  \n",
       "2370   623154556195  \n",
       "2371  3622365199969  \n",
       "2372  7118046558393  \n",
       "2373   170351888128  \n",
       "2374  5081198789583  \n",
       "\n",
       "[2375 rows x 6 columns]"
      ]
     },
     "execution_count": 86,
     "metadata": {},
     "output_type": "execute_result"
    }
   ],
   "source": [
    "city_data =pd.merge(d1, d2, on='city')\n",
    "city_data\n",
    "# pd.merge(df_row, df3, on='id')\n",
    "\n",
    "# df_merge_col\n",
    "#d1.set_index('city').join(d2.set_index('city'))"
   ]
  },
  {
   "cell_type": "code",
   "execution_count": 114,
   "metadata": {},
   "outputs": [
    {
     "data": {
      "image/png": "[encoded data removed]",
      "text/plain": [
       "<Figure size 432x288 with 1 Axes>"
      ]
     },
     "metadata": {},
     "output_type": "display_data"
    }
   ],
   "source": [
    "# produce the following pie chart: Pie Chart of % of Total Fares by City Type.\n",
    "city = city_data.groupby(['type']).sum()\n",
    "\n",
    "city.reset_index(inplace=True)\n",
    "city_type = city['type']\n",
    "city_fare_total = city['fare']\n",
    "explode = (0, 0.1, 0) \n",
    "#the pir chart goes here\n",
    "plt.pie(city_fare_total, explode =explode,  labels = city_type, autopct = '%1.1f%%', shadow = True, startangle = 140)\n",
    "plt.axis('equal')\n",
    "plt.title('Sum of city fares')\n",
    "plt.show()\n"
   ]
  },
  {
   "cell_type": "code",
   "execution_count": 116,
   "metadata": {
    "id": "EpTRmGQF4kyA"
   },
   "outputs": [
    {
     "data": {
      "text/html": [
       "<div>\n",
       "<style scoped>\n",
       "    .dataframe tbody tr th:only-of-type {\n",
       "        vertical-align: middle;\n",
       "    }\n",
       "\n",
       "    .dataframe tbody tr th {\n",
       "        vertical-align: top;\n",
       "    }\n",
       "\n",
       "    .dataframe thead th {\n",
       "        text-align: right;\n",
       "    }\n",
       "</style>\n",
       "<table border=\"1\" class=\"dataframe\">\n",
       "  <thead>\n",
       "    <tr style=\"text-align: right;\">\n",
       "      <th></th>\n",
       "      <th>city</th>\n",
       "      <th>driver_count</th>\n",
       "      <th>date</th>\n",
       "      <th>fare</th>\n",
       "      <th>ride_id</th>\n",
       "    </tr>\n",
       "    <tr>\n",
       "      <th>type</th>\n",
       "      <th></th>\n",
       "      <th></th>\n",
       "      <th></th>\n",
       "      <th></th>\n",
       "      <th></th>\n",
       "    </tr>\n",
       "  </thead>\n",
       "  <tbody>\n",
       "    <tr>\n",
       "      <th>Rural</th>\n",
       "      <td>125</td>\n",
       "      <td>125</td>\n",
       "      <td>125</td>\n",
       "      <td>125</td>\n",
       "      <td>125</td>\n",
       "    </tr>\n",
       "    <tr>\n",
       "      <th>Suburban</th>\n",
       "      <td>625</td>\n",
       "      <td>625</td>\n",
       "      <td>625</td>\n",
       "      <td>625</td>\n",
       "      <td>625</td>\n",
       "    </tr>\n",
       "    <tr>\n",
       "      <th>Urban</th>\n",
       "      <td>1625</td>\n",
       "      <td>1625</td>\n",
       "      <td>1625</td>\n",
       "      <td>1625</td>\n",
       "      <td>1625</td>\n",
       "    </tr>\n",
       "  </tbody>\n",
       "</table>\n",
       "</div>"
      ],
      "text/plain": [
       "          city  driver_count  date  fare  ride_id\n",
       "type                                             \n",
       "Rural      125           125   125   125      125\n",
       "Suburban   625           625   625   625      625\n",
       "Urban     1625          1625  1625  1625     1625"
      ]
     },
     "execution_count": 116,
     "metadata": {},
     "output_type": "execute_result"
    }
   ],
   "source": [
    "# Challenge 3\n",
    "# ---\n",
    "# Question: From the combined dataset in Challenge 2, \n",
    "# create a pie chart of % of Total Rides by City Type\n",
    "# ---\n",
    "#\n",
    "city_rides = city_data.groupby(['type']).count()\n",
    "city_rides"
   ]
  },
  {
   "cell_type": "code",
   "execution_count": 118,
   "metadata": {},
   "outputs": [
    {
     "data": {
      "image/png": "[encoded data removed]",
      "text/plain": [
       "<Figure size 432x288 with 1 Axes>"
      ]
     },
     "metadata": {},
     "output_type": "display_data"
    }
   ],
   "source": [
    "city_rides.reset_index(inplace=True)\n",
    "city_types = city['type']\n",
    "city_rides_T= city['ride_id']\n",
    "explode = (0, 0.1, 0) \n",
    "#the pir chart goes here\n",
    "plt.pie(city_fare_total, explode =explode,  labels = city_type, autopct = '%1.1f%%', shadow = True, startangle = 240)\n",
    "plt.axis('equal')\n",
    "plt.title('City rides per city type')\n",
    "plt.show()"
   ]
  },
  {
   "cell_type": "code",
   "execution_count": null,
   "metadata": {},
   "outputs": [],
   "source": []
  },
  {
   "cell_type": "code",
   "execution_count": 120,
   "metadata": {
    "id": "H4FACJNg6kPw"
   },
   "outputs": [
    {
     "data": {
      "text/html": [
       "<div>\n",
       "<style scoped>\n",
       "    .dataframe tbody tr th:only-of-type {\n",
       "        vertical-align: middle;\n",
       "    }\n",
       "\n",
       "    .dataframe tbody tr th {\n",
       "        vertical-align: top;\n",
       "    }\n",
       "\n",
       "    .dataframe thead th {\n",
       "        text-align: right;\n",
       "    }\n",
       "</style>\n",
       "<table border=\"1\" class=\"dataframe\">\n",
       "  <thead>\n",
       "    <tr style=\"text-align: right;\">\n",
       "      <th></th>\n",
       "      <th>driver_count</th>\n",
       "      <th>fare</th>\n",
       "      <th>ride_id</th>\n",
       "    </tr>\n",
       "    <tr>\n",
       "      <th>type</th>\n",
       "      <th></th>\n",
       "      <th></th>\n",
       "      <th></th>\n",
       "    </tr>\n",
       "  </thead>\n",
       "  <tbody>\n",
       "    <tr>\n",
       "      <th>Rural</th>\n",
       "      <td>537</td>\n",
       "      <td>4327.93</td>\n",
       "      <td>580968240341287</td>\n",
       "    </tr>\n",
       "    <tr>\n",
       "      <th>Suburban</th>\n",
       "      <td>8570</td>\n",
       "      <td>19356.33</td>\n",
       "      <td>3106884522576766</td>\n",
       "    </tr>\n",
       "    <tr>\n",
       "      <th>Urban</th>\n",
       "      <td>59602</td>\n",
       "      <td>39854.38</td>\n",
       "      <td>7919412664056093</td>\n",
       "    </tr>\n",
       "  </tbody>\n",
       "</table>\n",
       "</div>"
      ],
      "text/plain": [
       "          driver_count      fare           ride_id\n",
       "type                                              \n",
       "Rural              537   4327.93   580968240341287\n",
       "Suburban          8570  19356.33  3106884522576766\n",
       "Urban            59602  39854.38  7919412664056093"
      ]
     },
     "execution_count": 120,
     "metadata": {},
     "output_type": "execute_result"
    }
   ],
   "source": [
    "# Challenge 4\n",
    "# ---\n",
    "# Question: From the combined dataset in Challenge 2, \n",
    "# create a pie chart % of Total Drivers by City Type\n",
    "# ---\n",
    "city_drivers = city_data.groupby(['type']).sum()\n",
    "city_drivers"
   ]
  },
  {
   "cell_type": "code",
   "execution_count": 121,
   "metadata": {},
   "outputs": [
    {
     "data": {
      "image/png": "[encoded data removed]",
      "text/plain": [
       "<Figure size 432x288 with 1 Axes>"
      ]
     },
     "metadata": {},
     "output_type": "display_data"
    }
   ],
   "source": [
    "city_drivers.reset_index(inplace=True)\n",
    "city_drivers = city['type']\n",
    "city_drivers_T= city['driver_count']\n",
    "explode = (0, 0.1, 0) \n",
    "#the pir chart goes here\n",
    "plt.pie(city_fare_total, explode =explode,  labels = city_type, autopct = '%1.1f%%', shadow = True, startangle = 240)\n",
    "plt.axis('equal')\n",
    "plt.title('City driver counts')\n",
    "plt.show()"
   ]
  },
  {
   "cell_type": "markdown",
   "metadata": {
    "id": "QIuhupEZ1y_S"
   },
   "source": [
    "## 1.3 Numerical Variables"
   ]
  },
  {
   "cell_type": "markdown",
   "metadata": {
    "id": "GqietlVA2BUa"
   },
   "source": [
    "### 1.31 Measures of Central Tendency"
   ]
  },
  {
   "cell_type": "code",
   "execution_count": 124,
   "metadata": {
    "id": "u_W0Wibz13A8"
   },
   "outputs": [
    {
     "data": {
      "text/plain": [
       "24.452987654321003"
      ]
     },
     "execution_count": 124,
     "metadata": {},
     "output_type": "execute_result"
    }
   ],
   "source": [
    "# Example 1: Mean\n",
    "# Mean or Average is a central tendency of the data i.e. a number around which a whole data is spread out. \n",
    "# In a way, it is a single number which can estimate the value of whole data set.\n",
    "# ---\n",
    "# Question: From the following dataset, What is the mean monthly consumption and export of tea in millions of kg between 2003 and 2015\n",
    "# Dataset url = http://bit.ly/tea-exports\n",
    "# ---\n",
    "\n",
    "# Loading the dataset\n",
    "tea_exports_df = pd.read_csv(\"http://bit.ly/tea-exports\")\n",
    "\n",
    "# Previewing the dataset\n",
    "# tea_exports_df.head()\n",
    "\n",
    "# Finding the mean\n",
    "tea_exports_df[\"Millions_in_KGS_\"].mean()"
   ]
  },
  {
   "cell_type": "code",
   "execution_count": 131,
   "metadata": {
    "id": "2DPrdaoc16tZ"
   },
   "outputs": [
    {
     "data": {
      "text/plain": [
       "2424.0"
      ]
     },
     "execution_count": 131,
     "metadata": {},
     "output_type": "execute_result"
    }
   ],
   "source": [
    "# Example 2: Median\n",
    "# Median is the value which divides the data in 2 equal parts i.e. number of terms on right side of it \n",
    "# is same as number of terms on left side of it when data is arranged in either ascending or descending order.\n",
    "# ---\n",
    "# Question: From the following dataset, What was the monthly median fish production(kgs) in Kisumu sub county?\n",
    "# Dataset url = http://bit.ly/Kisumu-fish-production\n",
    "# ---\n",
    "# \n",
    "\n",
    "# Loading the dataset\n",
    "kisumu_fish_production_df = pd.read_csv(\"http://bit.ly/Kisumu-fish-production\")\n",
    "\n",
    "# Previewing the dataset\n",
    "# kisumu_fish_production_df.head()\n",
    "\n",
    "# Finding the median\n",
    "kisumu_fish_production_df[\"WEIGHT_KGS\"].median()"
   ]
  },
  {
   "cell_type": "code",
   "execution_count": 134,
   "metadata": {
    "id": "eYO9eGyH125E"
   },
   "outputs": [
    {
     "data": {
      "text/plain": [
       "0    10\n",
       "dtype: int64"
      ]
     },
     "execution_count": 134,
     "metadata": {},
     "output_type": "execute_result"
    }
   ],
   "source": [
    "# Example 3: Mode \n",
    "# Mode is the term appearing maximum time in data set i.e. term that has highest frequency.\n",
    "# ---\n",
    "# Question: From the given dataset, what was the mode target yield bags per hectare during the long rains?\n",
    "# Dataset url = http://bit.ly/Kisumu-crop-statistics\n",
    "# ---\n",
    "#\n",
    "\n",
    "# Loading the dataset\n",
    "kisumu_crop_statistics_df = pd.read_csv(\"http://bit.ly/Kisumu-crop-statistics\")\n",
    "\n",
    "# Previewing the dataset\n",
    "kisumu_crop_statistics_df.head()\n",
    "\n",
    "# Finding the median\n",
    "kisumu_crop_statistics_df[\"TARGET_YIELD__BAG/HA_LONG_RAINS\"].mode()"
   ]
  },
  {
   "cell_type": "markdown",
   "metadata": {
    "id": "Z6im-o4g4pK6"
   },
   "source": [
    "#### <font color=\"green\">1.32 Challenges</font>"
   ]
  },
  {
   "cell_type": "code",
   "execution_count": 138,
   "metadata": {
    "id": "bd8oXas94osH"
   },
   "outputs": [
    {
     "data": {
      "text/plain": [
       "Index(['SUB-COUNTY', 'PRODUCE', 'TARGET_AREA_HA_LONG_RAINS',\n",
       "       'TARGET_AREA_HA_SHORT_RAINS', 'TARGET_TOTAL_',\n",
       "       'TARGET_YIELD__BAG/HA_LONG_RAINS', 'TARGET_YIELD__BAG/HA_SHORT_RAINS',\n",
       "       'TARGET_PRODUCTION_BAGS_LONG_RAINS',\n",
       "       'TARGET_PRODUCTION_BAGS_SHORT_RAINS', 'TARGET_PRODUCTION_BAGS_TOTAL',\n",
       "       'ACHIEVEMENT_AREA_HA_LONG_RAINS', 'ACHIEVEMENT_AREA_HA_SHORT_RAINS',\n",
       "       'ACHIEVEMENT_TOTAL', 'PROJECTED_YIELD_BAG/HA_LONG_RAINS',\n",
       "       'PROJECTED_YIELD_BAG/HA_SHORT_RAINS',\n",
       "       'PROJECTED___PRODUCTION_BAGS_OF_90KG_EACH__LR',\n",
       "       'PROJECTED___PRODUCTION_BAGS_OF_90KG_EACH__SR',\n",
       "       'PROJECTED___PRODUCTION_BAGS_OF_90KG_EACH__TOTAL',\n",
       "       'PRICES_KSH/BAG_LONG_RAINS', 'PRICES_KSH/BAG_SHORT_RAINS',\n",
       "       'VALUE_KSH__LONG_RAINS', 'VALUE_KSH_SHORT_RAINS', 'VALUE_KSH_TOTAL',\n",
       "       'DATE', 'OBJECTID'],\n",
       "      dtype='object')"
      ]
     },
     "execution_count": 138,
     "metadata": {},
     "output_type": "execute_result"
    }
   ],
   "source": [
    "# Challenge 1: Mean\n",
    "# ---\n",
    "# Question: What was the mean target production bags of 90kg during short rains?\n",
    "# Dataset url = http://bit.ly/Kisumu-crop-statistics\n",
    "# ---\n",
    "# \n",
    "taregt_production = pd.read_csv(\"http://bit.ly/Kisumu-crop-statistics\")\n",
    "taregt_production.columns"
   ]
  },
  {
   "cell_type": "code",
   "execution_count": null,
   "metadata": {
    "id": "lOwXYPaO4x7u"
   },
   "outputs": [],
   "source": [
    "# Challenge 2: Median\n",
    "# ---\n",
    "# Question: What was the median target production bags during long rains?\n",
    "# Dataset url = http://bit.ly/Kisumu-crop-statistics\n",
    "# ---\n",
    "#\n",
    "OUR CODE GOES HERE"
   ]
  },
  {
   "cell_type": "code",
   "execution_count": null,
   "metadata": {
    "id": "JyOIjUMD4y-7"
   },
   "outputs": [],
   "source": [
    "# Challenge 3: Mode \n",
    "# ---\n",
    "# Question: What was the mode projected yield bags per hectare during short rains?\n",
    "# Dataset url = http://bit.ly/Kisumu-crop-statistics\n",
    "# ---\n",
    "#\n",
    "OUR CODE GOES HERE"
   ]
  },
  {
   "cell_type": "markdown",
   "metadata": {
    "id": "8POt4f4D2LcH"
   },
   "source": [
    "### 1.32 Measures of Dispersion/Variability/Spread"
   ]
  },
  {
   "cell_type": "code",
   "execution_count": null,
   "metadata": {
    "id": "kZeJoLg_2R3Q"
   },
   "outputs": [],
   "source": [
    "# Example 1: Standard Deviation  \n",
    "# Standard deviation is the measurement of average distance between each quantity and mean. \n",
    "# That is, how data is spread out from mean. A low standard deviation indicates that the data points \n",
    "# tend to be close to the mean of the data set, while a high standard deviation indicates that the \n",
    "# data points are spread out over a wider range of values.\n",
    "# There are situations when we have to choose between sample or population Standard Deviation. \n",
    "# When we are asked to find SD of some part of a population, a segment of population; \n",
    "# then we use sample Standard Deviation. But when we have to deal with a whole population, \n",
    "# then we use population Standard Deviation. As you know, in descriptive statistics, \n",
    "# we generally deal with a data available in a sample, not in a population.\n",
    "# ---\n",
    "# Question: What was the standard deviation for the Nakuru Couty Herbicide average prices?\n",
    "# Dataset url = http://bit.ly/NakuruCountyHerbicidePrices\n",
    "# ----\n",
    "# \n",
    "\n",
    "# Loading the dataset\n",
    "nakuru_county_herbicide_prices_df = pd.read_csv(\"http://bit.ly/NakuruCountyHerbicidePrices\")\n",
    "\n",
    "# Previewing the dataset\n",
    "# nakuru_county_herbicide_prices_df.head()\n",
    "\n",
    "# Finding the standard deviation\n",
    "nakuru_county_herbicide_prices_df[\"Average_Price\"].std()"
   ]
  },
  {
   "cell_type": "code",
   "execution_count": null,
   "metadata": {
    "id": "P8vUwmx3-8iB"
   },
   "outputs": [],
   "source": [
    "# Example 2: Variance\n",
    "# Variance is a square of average distance between each quantity and mean. \n",
    "# That is it is square of standard deviation. It is a measure of how dispersed or spread out the set is, \n",
    "# something that the “average” (mean or median) is not designed to do. \n",
    "# If I tell you a data set has a variance of zero, for example, you know that every member of it is the same. \n",
    "# If the variance is high, especially as a ratio to the mean, \n",
    "# that tells you that the data have some very large dis-similarities amongst its members. \n",
    "# If one considers the mean to be a sort of centre of the data, \n",
    "# the variance tells you how scattered around the centre of mass the points are.\n",
    "# ---\n",
    "# Question: What was the variance of the Nakuru Couty Herbicide average prices?\n",
    "# Dataset url = http://bit.ly/NakuruCountyHerbicidePrices\n",
    "# ---\n",
    "#  \n",
    "\n",
    "# Finding the variance of the herbicide average prices\n",
    "nakuru_county_herbicide_prices_df[\"Average_Price\"].var()"
   ]
  },
  {
   "cell_type": "code",
   "execution_count": null,
   "metadata": {
    "id": "j73naeos2RRR"
   },
   "outputs": [],
   "source": [
    "# Examples 3: Range\n",
    "# Range is one of the simplest techniques of descriptive statistics. \n",
    "# It is the difference between lowest and highest value.\n",
    "# ---\n",
    "# Question: What was the range of the Nakuru county herbicide prices?\n",
    "# Dataset url = http://bit.ly/NakuruCountyHerbicidePrices\n",
    "# ---\n",
    "#\n",
    "\n",
    "# Finding the min and max values of the herbicide average prices\n",
    "nakuru_county_herbicide_prices_max = nakuru_county_herbicide_prices_df[\"Average_Price\"].max()\n",
    "nakuru_county_herbicide_prices_min = nakuru_county_herbicide_prices_df[\"Average_Price\"].min()\n",
    "\n",
    "# Calculating the range\n",
    "nakuru_county_herbicide_prices_max - nakuru_county_herbicide_prices_min"
   ]
  },
  {
   "cell_type": "code",
   "execution_count": null,
   "metadata": {
    "id": "UobGI2kj2Q3Y"
   },
   "outputs": [],
   "source": [
    "# Example 4: Quantiles \n",
    "# In statistics and probability, quartiles are values that divide your data into quarters provided data is sorted in an ascending order. \n",
    "# There are three quartile values. First quartile value is at 25 percentile. \n",
    "# Second quartile is 50 percentile and third quartile is 75 percentile. \n",
    "# Second quartile (Q2) is median of the whole data. First quartile (Q1) is median of upper half of the data. \n",
    "# And Third Quartile (Q3) is median of lower half of the data.\n",
    "# ---\n",
    "# Question: Determine the quantiles of the Nakuru county herbicide prices\n",
    "# Dataset url = http://bit.ly/NakuruCountyHerbicidePrices\n",
    "# ---\n",
    "# \n",
    "\n",
    "# Finding the quantiles of the herbicide average prices\n",
    "nakuru_county_herbicide_prices_df[\"Average_Price\"].quantile([0.25,0.5,0.75])"
   ]
  },
  {
   "cell_type": "code",
   "execution_count": null,
   "metadata": {
    "id": "j_9rzQpe3UEE"
   },
   "outputs": [],
   "source": [
    "# Examples 5: Skewness\n",
    "# Skewness is a measure of the asymmetry of the probability distribution (http://bit.ly/ProbabilityDistribution)\n",
    "# of a real-valued random variable about its mean. The skewness value can be positive or negative, or undefined.\n",
    "# In a perfect normal distribution, the tails on either side of the curve are exact mirror images of each other.\n",
    "# When a distribution is skewed to the left, the tail on the curve’s left-hand side is longer than the tail on the right-hand side,\n",
    "# and the mean is less than the mode. This situation is also called negative skewness.\n",
    "# When a distribution is skewed to the right, the tail on the curve’s right-hand side is longer than the tail on the left-hand side, \n",
    "# and the mean is greater than the mode. This situation is also called positive skewness.\n",
    "# It is important for researchers from the behavioral and business sciences to measure skewness when it appears in their data. \n",
    "# Great amount of skewness may motivate the data scientist to investigate the existence of outliers. \n",
    "# When making decisions about which measure of location to report and which inferential statistic to employ, \n",
    "# one should take into consideration the estimated skewness of the population.\n",
    "# A negative value means the distribution is negatively skewed. A positive value means the distribution is positively skewed.\n",
    "# ---\n",
    "# Question: Determine the skewness of the Nakuru county herbicide prices.\n",
    "# Dataset url = http://bit.ly/NakuruCountyHerbicidePrices\n",
    "# ---\n",
    "#\n",
    "\n",
    "# Determining the skeweness\n",
    "nakuru_county_herbicide_prices_df[\"Average_Price\"].skew()"
   ]
  },
  {
   "cell_type": "code",
   "execution_count": null,
   "metadata": {
    "id": "HTwjeGEy3XAB"
   },
   "outputs": [],
   "source": [
    "# Examples 6: Kurtosis\n",
    "# The exact interpretation of the measure of Kurtosis used to be disputed, but is now settled. \n",
    "# Its about existence of outliers. Kurtosis is a measure of whether the data are heavy-tailed (profusion of outliers)\n",
    "# or light-tailed (lack of outliers) relative to a normal distribution.\n",
    "# There are three types of Kurtosis: Mesokurtic, Leptokurtic, Mesokurtic and Platykurtic. \n",
    "# ***\n",
    "# Mesokurtic is the distribution which has similar kurtosis as normal distribution kurtosis, which is zero.\n",
    "# ***\n",
    "# Leptokurtic is the distribution which has kurtosis greater than a Mesokurtic distribution. Tails of such distributions are thick and heavy. \n",
    "# If the curve of a distribution is more peaked than Mesokurtic curve, it is referred to as a Leptokurtic curve.\n",
    "# ***\n",
    "# Platykurtic is the distribution which has kurtosis lesser than a Mesokurtic distribution. Tails of such distributions thinner. \n",
    "# If a curve of a distribution is less peaked than a Mesokurtic curve, it is referred to as a Platykurtic curve.\n",
    "# \n",
    "# If the kurtosis is close to 0, then a normal distribution is often assumed. These are called mesokurtic distributions. \n",
    "# If the kurtosis is less than zero, then the distribution is light tails and is called a platykurtic distribution.  \n",
    "# If the kurtosis is greater than zero, then the distribution has heavier tails and is called a leptokurtic distribution.\n",
    "# ---\n",
    "# Question: Determine the Kurtosis of the Nakuru county herbicide prices \n",
    "# Dataset url = http://bit.ly/NakuruCountyHerbicidePrices\n",
    "# ---\n",
    "#\n",
    "\n",
    "# Determining the skeweness \n",
    "nakuru_county_herbicide_prices_df[\"Average_Price\"].kurt()"
   ]
  },
  {
   "cell_type": "code",
   "execution_count": null,
   "metadata": {
    "id": "cN5YUpsblCLC"
   },
   "outputs": [],
   "source": [
    "# Example 7: Displaying the summary statistics of the dataframe\n",
    "#\n",
    "nakuru_county_herbicide_prices_df['Average_Price'].describe()\n"
   ]
  },
  {
   "cell_type": "markdown",
   "metadata": {
    "id": "xumXllAg5A6N"
   },
   "source": [
    "#### <font color=\"green\">1.32 Challenges</font>"
   ]
  },
  {
   "cell_type": "code",
   "execution_count": null,
   "metadata": {
    "id": "gXnEzujX5Gi0"
   },
   "outputs": [],
   "source": [
    "# Challenge 1: Standard Deviation\n",
    "# ---\n",
    "# What was the variance of end of reporting month surplus for the 90kg bags?\n",
    "# Dataset url = http://bit.ly/KisumuFoodSecurtyDataset\n",
    "# ---\n",
    "# \n",
    "OUR CODE GOES HERE "
   ]
  },
  {
   "cell_type": "code",
   "execution_count": null,
   "metadata": {
    "id": "233fZPZb3aE8"
   },
   "outputs": [],
   "source": [
    "# Challenge 2: Variance \n",
    "# ---\n",
    "# What was the variance of end of reporting month surplus for the 90kg bags?\n",
    "# Dataset url = http://bit.ly/KisumuFoodSecurityDataset\n",
    "# ---\n",
    "# \n",
    "OUR CODE GOES HERE "
   ]
  },
  {
   "cell_type": "code",
   "execution_count": null,
   "metadata": {
    "id": "0V7cj3tZ5Ive"
   },
   "outputs": [],
   "source": [
    "# Challenge 3: Range\n",
    "# ---\n",
    "# What was the range of end of reporting month surplus for the 90kg bags?\n",
    "# Dataset url = http://bit.ly/KisumuFoodSecurityDataset\n",
    "# ---\n",
    "# \n",
    "OUR CODE GOES HERE "
   ]
  },
  {
   "cell_type": "code",
   "execution_count": null,
   "metadata": {
    "id": "goQeGKwvEYTR"
   },
   "outputs": [],
   "source": [
    "# Challenge 4: Quantiles\n",
    "# ---\n",
    "# What was the range of end of reporting month surplus for the 90kg bags?\n",
    "# Dataset url = http://bit.ly/KisumuFoodSecurityDataset\n",
    "# ---\n",
    "# \n",
    "OUR CODE GOES HERE "
   ]
  },
  {
   "cell_type": "code",
   "execution_count": null,
   "metadata": {
    "id": "9i9AaOF-EZ7M"
   },
   "outputs": [],
   "source": [
    "# Challenge 5: Skewness\n",
    "# ---\n",
    "# What was the skewness of end of reporting month surplus for the 90kg bags?\n",
    "# Dataset url = http://bit.ly/KisumuFoodSecurityDataset\n",
    "# ---\n",
    "# \n",
    "OUR CODE GOES HERE "
   ]
  },
  {
   "cell_type": "code",
   "execution_count": null,
   "metadata": {
    "id": "jJG08eSTEbG6"
   },
   "outputs": [],
   "source": [
    "# Challenge 6: Kurtosis \n",
    "# ---\n",
    "# Find the kurtosis of end of reporting month surplus for the 90kg bags?\n",
    "# Dataset url = http://bit.ly/KisumuFoodSecurityDataset\n",
    "# ---\n",
    "# \n",
    "OUR CODE GOES HERE "
   ]
  },
  {
   "cell_type": "markdown",
   "metadata": {
    "id": "kKZFF5-Q6d5c"
   },
   "source": [
    "### 1.33 Visualisation Techniques"
   ]
  },
  {
   "cell_type": "markdown",
   "metadata": {
    "id": "32s_izI76icw"
   },
   "source": [
    "#### 1.41 Box Plots"
   ]
  },
  {
   "cell_type": "code",
   "execution_count": null,
   "metadata": {
    "id": "Cf_cAZET6iHd"
   },
   "outputs": [],
   "source": [
    "# Example 1\n",
    "# A boxplot is a standardized way of displaying the distribution of data based on a \n",
    "# five number summary (“minimum”, first quartile (Q1), median, third quartile (Q3), and “maximum”). \n",
    "# It can tell you about your outliers and what their values are. It can also tell you if your data is symmetrical, \n",
    "# how tightly your data is grouped, and if and how your data is skewed.\n",
    "# ---\n",
    "# Question: Plot a box plot of the average herbicide price\n",
    "# Dataset url = http://bit.ly/Kisumu-crop-statistics\n",
    "# ---\n",
    "#\n",
    "\n",
    "# Creating the boxplot\n",
    "#\n",
    "sns.boxplot(nakuru_county_herbicide_prices_df[\"Average_Price\"], showmeans=True)\n"
   ]
  },
  {
   "cell_type": "code",
   "execution_count": null,
   "metadata": {
    "id": "QcI9bqIq68t3"
   },
   "outputs": [],
   "source": [
    "# Example 2\n",
    "# ---\n",
    "# Question: Using pandas, create a boxplot of the target yield bags per hectare during the long rains. \n",
    "# Dataset url = http://bit.ly/Kisumu-crop-statistics\n",
    "# ---\n",
    "#\n",
    "\n",
    "# Creating the boxplot\n",
    "#\n",
    "kisumu_crop_statistics_df.boxplot([\"TARGET_YIELD__BAG/HA_LONG_RAINS\"])"
   ]
  },
  {
   "cell_type": "markdown",
   "metadata": {
    "id": "DHNDapES6-4D"
   },
   "source": [
    "##### <font color=\"green\">1.41 Challenges</font>"
   ]
  },
  {
   "cell_type": "code",
   "execution_count": null,
   "metadata": {
    "id": "Np_EB-2g7EjP"
   },
   "outputs": [],
   "source": [
    "# Challenge 1\n",
    "# ---\n",
    "# Question: Using pandas, create a boxplot of the target area per hectare during the short rains.\n",
    "# Dataset url = http://bit.ly/Kisumu-crop-statistics\n",
    "# ---\n",
    "# \n",
    "OUR CODE GOES HERE"
   ]
  },
  {
   "cell_type": "code",
   "execution_count": null,
   "metadata": {
    "id": "woDc6x7z7Jhf"
   },
   "outputs": [],
   "source": [
    "# Challenge 2\n",
    "# ---\n",
    "# Question: Using pandas, create a boxplot of the target production bags the long rains.\n",
    "# Dataset url = http://bit.ly/Kisumu-crop-statistics\n",
    "# ---\n",
    "#\n",
    "OUR CODE GOES HERE"
   ]
  },
  {
   "cell_type": "markdown",
   "metadata": {
    "id": "NqN2REVg6xM7"
   },
   "source": [
    "#### 1.42 More Histograms"
   ]
  },
  {
   "cell_type": "code",
   "execution_count": null,
   "metadata": {
    "id": "cGxxrtln66MY"
   },
   "outputs": [],
   "source": [
    "# Example 1\n",
    "# ---\n",
    "# Question: Plot a histogram of target area during long rains in kisumu county.\n",
    "# Dataset url = http://bit.ly/Kisumu-crop-statistics\n",
    "# ---\n",
    "# \n",
    "\n",
    "# Plotting the histogram\n",
    "#\n",
    "kisumu_crop_statistics_df['TARGET_AREA_HA_LONG_RAINS'].hist()"
   ]
  },
  {
   "cell_type": "code",
   "execution_count": null,
   "metadata": {
    "id": "31CPj4mFH2X2"
   },
   "outputs": [],
   "source": [
    "kisumu_crop_statistics_df.head()"
   ]
  },
  {
   "cell_type": "code",
   "execution_count": null,
   "metadata": {
    "id": "jZ_y-wGN7Pro"
   },
   "outputs": [],
   "source": [
    "# Example 2\n",
    "# ---\n",
    "# Question: Using Seaborn, Plot a histogram of target area for maize during long rains in kisumu county\n",
    "# ---\n",
    "#\n",
    "\n",
    "# Plotting our histogram\n",
    "#\n",
    "df = kisumu_crop_statistics_df[kisumu_crop_statistics_df.PRODUCE == 'Maize']\n",
    "sns.distplot(kisumu_crop_statistics_df['TARGET_AREA_HA_LONG_RAINS'],  kde=False,label='Maize')"
   ]
  },
  {
   "cell_type": "markdown",
   "metadata": {
    "id": "uXIKUeun7Tz6"
   },
   "source": [
    "#### <font color=\"green\">1.43 Challenges</font>"
   ]
  },
  {
   "cell_type": "code",
   "execution_count": null,
   "metadata": {
    "id": "c20egYFA7ZQA"
   },
   "outputs": [],
   "source": [
    "# Challenge 1\n",
    "# ---\n",
    "# Question: Plot a histogram of weight in kgs for fish production\n",
    "# Dataset url = \"http://bit.ly/Kisumu-fish-production\"\n",
    "# ---\n",
    "#\n",
    "OUR CODE GOES HERE"
   ]
  },
  {
   "cell_type": "code",
   "execution_count": null,
   "metadata": {
    "id": "8_NmsQOu7aTW"
   },
   "outputs": [],
   "source": [
    "# Challenge 2\n",
    "# ---\n",
    "# Question: Plot a histogram of target yield bags during short rains.\n",
    "# Dataset url = \"http://bit.ly/Kisumu-crop-statistics\"\n",
    "# ---\n",
    "# \n",
    "OUR CODE GOES HERE"
   ]
  },
  {
   "cell_type": "markdown",
   "metadata": {
    "id": "y2tpmU6oFKHX"
   },
   "source": []
  },
  {
   "cell_type": "code",
   "execution_count": null,
   "metadata": {
    "id": "gOGG_XWoFKiM"
   },
   "outputs": [],
   "source": []
  }
 ],
 "metadata": {
  "colab": {
   "collapsed_sections": [
    "kLkivweO1Iii",
    "InrgA2D21MCl",
    "0CRs-dFC1ohx",
    "ck0zE_a43uV-",
    "NCrhoYJz1dUY",
    "jRKV0pa04BQH",
    "yXH8QAl71vLq",
    "6lNbN0xS4XAY",
    "QIuhupEZ1y_S",
    "GqietlVA2BUa",
    "Z6im-o4g4pK6",
    "8POt4f4D2LcH",
    "xumXllAg5A6N",
    "kKZFF5-Q6d5c",
    "32s_izI76icw",
    "DHNDapES6-4D",
    "NqN2REVg6xM7",
    "uXIKUeun7Tz6"
   ],
   "name": "Univariate Analysis with Python - Exercise",
   "provenance": [],
   "toc_visible": true
  },
  "interpreter": {
   "hash": "8e24f623c9d976e65e43b538ecbbc4d478524c94015e92b14b460358aba5245a"
  },
  "kernelspec": {
   "display_name": "Python 3",
   "language": "python",
   "name": "python3"
  },
  "language_info": {
   "codemirror_mode": {
    "name": "ipython",
    "version": 3
   },
   "file_extension": ".py",
   "mimetype": "text/x-python",
   "name": "python",
   "nbconvert_exporter": "python",
   "pygments_lexer": "ipython3",
   "version": "3.8.5"
  }
 },
 "nbformat": 4,
 "nbformat_minor": 2
}
